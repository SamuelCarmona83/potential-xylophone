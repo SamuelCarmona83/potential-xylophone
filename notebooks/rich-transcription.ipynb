{
 "cells": [
  {
   "cell_type": "code",
   "execution_count": null,
   "metadata": {},
   "outputs": [],
   "source": [
    "# pip install --upgrade pip\n",
    "# # speechbrain (used for speaker embedding)\n",
    "# pip install -qq torch==1.11.0 torchvision==0.12.0 torchaudio==0.11.0 torchtext==0.12.0 --use-deprecated=legacy-resolver\n",
    "# pip install -qq speechbrain==0.5.12 --use-deprecated=legacy-resolver\n",
    "\n",
    "# # pyannote.audio (used for speaker diarization)\n",
    "# pip install -qq pyannote.audio==2.1.1 --use-deprecated=legacy-resolver\n",
    "\n",
    "# # OpenAI whisper (used for automatic speech recognition)\n",
    "# pip install -qq git+https://github.com/openai/whisper.git --use-deprecated=legacy-resolver"
   ]
  }
 ],
 "metadata": {
  "language_info": {
   "name": "python"
  },
  "orig_nbformat": 4
 },
 "nbformat": 4,
 "nbformat_minor": 2
}
